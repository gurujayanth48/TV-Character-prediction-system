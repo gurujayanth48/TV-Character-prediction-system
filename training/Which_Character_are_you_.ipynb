{
 "cells": [
  {
   "cell_type": "code",
   "execution_count": 1,
   "metadata": {
    "id": "0LbMhPWCzcyM"
   },
   "outputs": [],
   "source": [
    "import pandas as pd"
   ]
  },
  {
   "cell_type": "code",
   "execution_count": 2,
   "metadata": {
    "id": "12JX87D3zcyV"
   },
   "outputs": [],
   "source": [
    "data=pd.read_csv('dataset.csv')"
   ]
  },
  {
   "cell_type": "code",
   "execution_count": 3,
   "metadata": {
    "colab": {
     "base_uri": "https://localhost:8080/",
     "height": 244
    },
    "id": "PXh1DZ87zcyY",
    "outputId": "ecc13397-9ca8-498f-eb9e-b82400a59614"
   },
   "outputs": [
    {
     "data": {
      "text/html": [
       "<div>\n",
       "<style scoped>\n",
       "    .dataframe tbody tr th:only-of-type {\n",
       "        vertical-align: middle;\n",
       "    }\n",
       "\n",
       "    .dataframe tbody tr th {\n",
       "        vertical-align: top;\n",
       "    }\n",
       "\n",
       "    .dataframe thead th {\n",
       "        text-align: right;\n",
       "    }\n",
       "</style>\n",
       "<table border=\"1\" class=\"dataframe\">\n",
       "  <thead>\n",
       "    <tr style=\"text-align: right;\">\n",
       "      <th></th>\n",
       "      <th>Emotion</th>\n",
       "      <th>BAP1</th>\n",
       "      <th>BAP2</th>\n",
       "      <th>BAP3</th>\n",
       "      <th>BAP4</th>\n",
       "      <th>BAP5</th>\n",
       "      <th>BAP6</th>\n",
       "      <th>BAP7</th>\n",
       "      <th>BAP8</th>\n",
       "      <th>BAP9</th>\n",
       "      <th>...</th>\n",
       "      <th>BAP259</th>\n",
       "      <th>BAP260</th>\n",
       "      <th>BAP261</th>\n",
       "      <th>BAP262</th>\n",
       "      <th>BAP263</th>\n",
       "      <th>BAP264</th>\n",
       "      <th>BAP265</th>\n",
       "      <th>BAP266</th>\n",
       "      <th>BAP267</th>\n",
       "      <th>BAP268</th>\n",
       "    </tr>\n",
       "  </thead>\n",
       "  <tbody>\n",
       "    <tr>\n",
       "      <th>0</th>\n",
       "      <td>NCIS/1</td>\n",
       "      <td>86.5</td>\n",
       "      <td>82.1</td>\n",
       "      <td>74.8</td>\n",
       "      <td>7.9</td>\n",
       "      <td>31.1</td>\n",
       "      <td>78.1</td>\n",
       "      <td>37.9</td>\n",
       "      <td>20.6</td>\n",
       "      <td>55.7</td>\n",
       "      <td>...</td>\n",
       "      <td>38.4</td>\n",
       "      <td>57.9</td>\n",
       "      <td>21.1</td>\n",
       "      <td>64.2</td>\n",
       "      <td>23.4</td>\n",
       "      <td>29.4</td>\n",
       "      <td>76.7</td>\n",
       "      <td>32.8</td>\n",
       "      <td>81.9</td>\n",
       "      <td>11.5</td>\n",
       "    </tr>\n",
       "    <tr>\n",
       "      <th>1</th>\n",
       "      <td>NCIS/2</td>\n",
       "      <td>18.5</td>\n",
       "      <td>88.2</td>\n",
       "      <td>24.3</td>\n",
       "      <td>14.4</td>\n",
       "      <td>13.1</td>\n",
       "      <td>40.4</td>\n",
       "      <td>69.7</td>\n",
       "      <td>73.3</td>\n",
       "      <td>48.7</td>\n",
       "      <td>...</td>\n",
       "      <td>54.8</td>\n",
       "      <td>83.3</td>\n",
       "      <td>84.5</td>\n",
       "      <td>32.1</td>\n",
       "      <td>42.1</td>\n",
       "      <td>64.7</td>\n",
       "      <td>69.2</td>\n",
       "      <td>34.3</td>\n",
       "      <td>70.4</td>\n",
       "      <td>34.3</td>\n",
       "    </tr>\n",
       "    <tr>\n",
       "      <th>2</th>\n",
       "      <td>NCIS/3</td>\n",
       "      <td>16.0</td>\n",
       "      <td>86.3</td>\n",
       "      <td>11.9</td>\n",
       "      <td>64.8</td>\n",
       "      <td>35.9</td>\n",
       "      <td>61.5</td>\n",
       "      <td>15.5</td>\n",
       "      <td>70.2</td>\n",
       "      <td>60.2</td>\n",
       "      <td>...</td>\n",
       "      <td>18.9</td>\n",
       "      <td>75.2</td>\n",
       "      <td>93.7</td>\n",
       "      <td>49.6</td>\n",
       "      <td>36.0</td>\n",
       "      <td>31.5</td>\n",
       "      <td>22.3</td>\n",
       "      <td>15.9</td>\n",
       "      <td>78.8</td>\n",
       "      <td>13.2</td>\n",
       "    </tr>\n",
       "    <tr>\n",
       "      <th>3</th>\n",
       "      <td>NCIS/4</td>\n",
       "      <td>63.5</td>\n",
       "      <td>64.7</td>\n",
       "      <td>29.1</td>\n",
       "      <td>34.1</td>\n",
       "      <td>24.5</td>\n",
       "      <td>84.2</td>\n",
       "      <td>7.1</td>\n",
       "      <td>49.3</td>\n",
       "      <td>14.1</td>\n",
       "      <td>...</td>\n",
       "      <td>64.6</td>\n",
       "      <td>55.6</td>\n",
       "      <td>49.2</td>\n",
       "      <td>74.1</td>\n",
       "      <td>59.7</td>\n",
       "      <td>51.4</td>\n",
       "      <td>12.4</td>\n",
       "      <td>29.8</td>\n",
       "      <td>79.1</td>\n",
       "      <td>15.6</td>\n",
       "    </tr>\n",
       "    <tr>\n",
       "      <th>4</th>\n",
       "      <td>NCIS/5</td>\n",
       "      <td>68.6</td>\n",
       "      <td>32.4</td>\n",
       "      <td>42.1</td>\n",
       "      <td>39.8</td>\n",
       "      <td>71.5</td>\n",
       "      <td>67.0</td>\n",
       "      <td>16.8</td>\n",
       "      <td>44.8</td>\n",
       "      <td>21.2</td>\n",
       "      <td>...</td>\n",
       "      <td>73.8</td>\n",
       "      <td>39.4</td>\n",
       "      <td>36.7</td>\n",
       "      <td>71.5</td>\n",
       "      <td>61.4</td>\n",
       "      <td>45.3</td>\n",
       "      <td>67.5</td>\n",
       "      <td>33.7</td>\n",
       "      <td>76.2</td>\n",
       "      <td>24.8</td>\n",
       "    </tr>\n",
       "  </tbody>\n",
       "</table>\n",
       "<p>5 rows × 269 columns</p>\n",
       "</div>"
      ],
      "text/plain": [
       "  Emotion  BAP1  BAP2  BAP3  BAP4  BAP5  BAP6  BAP7  BAP8  BAP9  ...  BAP259  \\\n",
       "0  NCIS/1  86.5  82.1  74.8   7.9  31.1  78.1  37.9  20.6  55.7  ...    38.4   \n",
       "1  NCIS/2  18.5  88.2  24.3  14.4  13.1  40.4  69.7  73.3  48.7  ...    54.8   \n",
       "2  NCIS/3  16.0  86.3  11.9  64.8  35.9  61.5  15.5  70.2  60.2  ...    18.9   \n",
       "3  NCIS/4  63.5  64.7  29.1  34.1  24.5  84.2   7.1  49.3  14.1  ...    64.6   \n",
       "4  NCIS/5  68.6  32.4  42.1  39.8  71.5  67.0  16.8  44.8  21.2  ...    73.8   \n",
       "\n",
       "   BAP260  BAP261  BAP262  BAP263  BAP264  BAP265  BAP266  BAP267  BAP268  \n",
       "0    57.9    21.1    64.2    23.4    29.4    76.7    32.8    81.9    11.5  \n",
       "1    83.3    84.5    32.1    42.1    64.7    69.2    34.3    70.4    34.3  \n",
       "2    75.2    93.7    49.6    36.0    31.5    22.3    15.9    78.8    13.2  \n",
       "3    55.6    49.2    74.1    59.7    51.4    12.4    29.8    79.1    15.6  \n",
       "4    39.4    36.7    71.5    61.4    45.3    67.5    33.7    76.2    24.8  \n",
       "\n",
       "[5 rows x 269 columns]"
      ]
     },
     "execution_count": 3,
     "metadata": {},
     "output_type": "execute_result"
    }
   ],
   "source": [
    "#lets look at few rows\n",
    "data.head()"
   ]
  },
  {
   "cell_type": "code",
   "execution_count": 4,
   "metadata": {
    "id": "IHEFRNbWzcyc"
   },
   "outputs": [],
   "source": [
    "#first we seperate label column Emotion\n",
    "label=data.Emotion.values\n",
    "data=data.drop(['Emotion'],axis=1)"
   ]
  },
  {
   "cell_type": "code",
   "execution_count": 5,
   "metadata": {
    "colab": {
     "base_uri": "https://localhost:8080/",
     "height": 244
    },
    "id": "L9oJxpp6zcyf",
    "outputId": "afb7cd7b-edd3-4121-f7d8-d9a4d67f2292"
   },
   "outputs": [
    {
     "data": {
      "text/html": [
       "<div>\n",
       "<style scoped>\n",
       "    .dataframe tbody tr th:only-of-type {\n",
       "        vertical-align: middle;\n",
       "    }\n",
       "\n",
       "    .dataframe tbody tr th {\n",
       "        vertical-align: top;\n",
       "    }\n",
       "\n",
       "    .dataframe thead th {\n",
       "        text-align: right;\n",
       "    }\n",
       "</style>\n",
       "<table border=\"1\" class=\"dataframe\">\n",
       "  <thead>\n",
       "    <tr style=\"text-align: right;\">\n",
       "      <th></th>\n",
       "      <th>BAP1</th>\n",
       "      <th>BAP2</th>\n",
       "      <th>BAP3</th>\n",
       "      <th>BAP4</th>\n",
       "      <th>BAP5</th>\n",
       "      <th>BAP6</th>\n",
       "      <th>BAP7</th>\n",
       "      <th>BAP8</th>\n",
       "      <th>BAP9</th>\n",
       "      <th>BAP10</th>\n",
       "      <th>...</th>\n",
       "      <th>BAP259</th>\n",
       "      <th>BAP260</th>\n",
       "      <th>BAP261</th>\n",
       "      <th>BAP262</th>\n",
       "      <th>BAP263</th>\n",
       "      <th>BAP264</th>\n",
       "      <th>BAP265</th>\n",
       "      <th>BAP266</th>\n",
       "      <th>BAP267</th>\n",
       "      <th>BAP268</th>\n",
       "    </tr>\n",
       "  </thead>\n",
       "  <tbody>\n",
       "    <tr>\n",
       "      <th>0</th>\n",
       "      <td>86.5</td>\n",
       "      <td>82.1</td>\n",
       "      <td>74.8</td>\n",
       "      <td>7.9</td>\n",
       "      <td>31.1</td>\n",
       "      <td>78.1</td>\n",
       "      <td>37.9</td>\n",
       "      <td>20.6</td>\n",
       "      <td>55.7</td>\n",
       "      <td>67.3</td>\n",
       "      <td>...</td>\n",
       "      <td>38.4</td>\n",
       "      <td>57.9</td>\n",
       "      <td>21.1</td>\n",
       "      <td>64.2</td>\n",
       "      <td>23.4</td>\n",
       "      <td>29.4</td>\n",
       "      <td>76.7</td>\n",
       "      <td>32.8</td>\n",
       "      <td>81.9</td>\n",
       "      <td>11.5</td>\n",
       "    </tr>\n",
       "    <tr>\n",
       "      <th>1</th>\n",
       "      <td>18.5</td>\n",
       "      <td>88.2</td>\n",
       "      <td>24.3</td>\n",
       "      <td>14.4</td>\n",
       "      <td>13.1</td>\n",
       "      <td>40.4</td>\n",
       "      <td>69.7</td>\n",
       "      <td>73.3</td>\n",
       "      <td>48.7</td>\n",
       "      <td>55.0</td>\n",
       "      <td>...</td>\n",
       "      <td>54.8</td>\n",
       "      <td>83.3</td>\n",
       "      <td>84.5</td>\n",
       "      <td>32.1</td>\n",
       "      <td>42.1</td>\n",
       "      <td>64.7</td>\n",
       "      <td>69.2</td>\n",
       "      <td>34.3</td>\n",
       "      <td>70.4</td>\n",
       "      <td>34.3</td>\n",
       "    </tr>\n",
       "    <tr>\n",
       "      <th>2</th>\n",
       "      <td>16.0</td>\n",
       "      <td>86.3</td>\n",
       "      <td>11.9</td>\n",
       "      <td>64.8</td>\n",
       "      <td>35.9</td>\n",
       "      <td>61.5</td>\n",
       "      <td>15.5</td>\n",
       "      <td>70.2</td>\n",
       "      <td>60.2</td>\n",
       "      <td>22.8</td>\n",
       "      <td>...</td>\n",
       "      <td>18.9</td>\n",
       "      <td>75.2</td>\n",
       "      <td>93.7</td>\n",
       "      <td>49.6</td>\n",
       "      <td>36.0</td>\n",
       "      <td>31.5</td>\n",
       "      <td>22.3</td>\n",
       "      <td>15.9</td>\n",
       "      <td>78.8</td>\n",
       "      <td>13.2</td>\n",
       "    </tr>\n",
       "    <tr>\n",
       "      <th>3</th>\n",
       "      <td>63.5</td>\n",
       "      <td>64.7</td>\n",
       "      <td>29.1</td>\n",
       "      <td>34.1</td>\n",
       "      <td>24.5</td>\n",
       "      <td>84.2</td>\n",
       "      <td>7.1</td>\n",
       "      <td>49.3</td>\n",
       "      <td>14.1</td>\n",
       "      <td>33.1</td>\n",
       "      <td>...</td>\n",
       "      <td>64.6</td>\n",
       "      <td>55.6</td>\n",
       "      <td>49.2</td>\n",
       "      <td>74.1</td>\n",
       "      <td>59.7</td>\n",
       "      <td>51.4</td>\n",
       "      <td>12.4</td>\n",
       "      <td>29.8</td>\n",
       "      <td>79.1</td>\n",
       "      <td>15.6</td>\n",
       "    </tr>\n",
       "    <tr>\n",
       "      <th>4</th>\n",
       "      <td>68.6</td>\n",
       "      <td>32.4</td>\n",
       "      <td>42.1</td>\n",
       "      <td>39.8</td>\n",
       "      <td>71.5</td>\n",
       "      <td>67.0</td>\n",
       "      <td>16.8</td>\n",
       "      <td>44.8</td>\n",
       "      <td>21.2</td>\n",
       "      <td>37.2</td>\n",
       "      <td>...</td>\n",
       "      <td>73.8</td>\n",
       "      <td>39.4</td>\n",
       "      <td>36.7</td>\n",
       "      <td>71.5</td>\n",
       "      <td>61.4</td>\n",
       "      <td>45.3</td>\n",
       "      <td>67.5</td>\n",
       "      <td>33.7</td>\n",
       "      <td>76.2</td>\n",
       "      <td>24.8</td>\n",
       "    </tr>\n",
       "  </tbody>\n",
       "</table>\n",
       "<p>5 rows × 268 columns</p>\n",
       "</div>"
      ],
      "text/plain": [
       "   BAP1  BAP2  BAP3  BAP4  BAP5  BAP6  BAP7  BAP8  BAP9  BAP10  ...  BAP259  \\\n",
       "0  86.5  82.1  74.8   7.9  31.1  78.1  37.9  20.6  55.7   67.3  ...    38.4   \n",
       "1  18.5  88.2  24.3  14.4  13.1  40.4  69.7  73.3  48.7   55.0  ...    54.8   \n",
       "2  16.0  86.3  11.9  64.8  35.9  61.5  15.5  70.2  60.2   22.8  ...    18.9   \n",
       "3  63.5  64.7  29.1  34.1  24.5  84.2   7.1  49.3  14.1   33.1  ...    64.6   \n",
       "4  68.6  32.4  42.1  39.8  71.5  67.0  16.8  44.8  21.2   37.2  ...    73.8   \n",
       "\n",
       "   BAP260  BAP261  BAP262  BAP263  BAP264  BAP265  BAP266  BAP267  BAP268  \n",
       "0    57.9    21.1    64.2    23.4    29.4    76.7    32.8    81.9    11.5  \n",
       "1    83.3    84.5    32.1    42.1    64.7    69.2    34.3    70.4    34.3  \n",
       "2    75.2    93.7    49.6    36.0    31.5    22.3    15.9    78.8    13.2  \n",
       "3    55.6    49.2    74.1    59.7    51.4    12.4    29.8    79.1    15.6  \n",
       "4    39.4    36.7    71.5    61.4    45.3    67.5    33.7    76.2    24.8  \n",
       "\n",
       "[5 rows x 268 columns]"
      ]
     },
     "execution_count": 5,
     "metadata": {},
     "output_type": "execute_result"
    }
   ],
   "source": [
    "data.head()"
   ]
  },
  {
   "cell_type": "code",
   "execution_count": 6,
   "metadata": {
    "id": "Qz1Mig3Vzcyi"
   },
   "outputs": [],
   "source": [
    "#Lets enumerate labels \n",
    "mapping=dict()\n",
    "for x,y in enumerate(label):\n",
    "    mapping[x]=y\n",
    "labels_enum=list(mapping.keys())"
   ]
  },
  {
   "cell_type": "code",
   "execution_count": 7,
   "metadata": {
    "colab": {
     "base_uri": "https://localhost:8080/"
    },
    "id": "-zjQhyzAzcyl",
    "outputId": "0c8f5203-4aea-460f-cfed-30363babd131"
   },
   "outputs": [
    {
     "data": {
      "text/plain": [
       "[0, 1, 2, 3, 4, 5, 6, 7, 8, 9]"
      ]
     },
     "execution_count": 7,
     "metadata": {},
     "output_type": "execute_result"
    }
   ],
   "source": [
    "labels_enum[:10]"
   ]
  },
  {
   "cell_type": "code",
   "execution_count": 9,
   "metadata": {
    "colab": {
     "base_uri": "https://localhost:8080/"
    },
    "id": "F-cG50cAzcyn",
    "outputId": "1a66ca76-80be-45bc-a136-fbaa8928639e"
   },
   "outputs": [
    {
     "data": {
      "text/plain": [
       "array([[86.5, 82.1, 74.8,  7.9, 31.1, 78.1, 37.9, 20.6, 55.7, 67.3, 83.7,\n",
       "        78.6, 15.1, 83. , 17.7, 43.1, 48. , 20.1, 23.4, 85.5],\n",
       "       [18.5, 88.2, 24.3, 14.4, 13.1, 40.4, 69.7, 73.3, 48.7, 55. , 79. ,\n",
       "        46.7, 70.9, 51. , 68.6, 47.5, 24.5, 64.6, 19.6, 74. ],\n",
       "       [16. , 86.3, 11.9, 64.8, 35.9, 61.5, 15.5, 70.2, 60.2, 22.8, 55.1,\n",
       "        68.6, 90.4, 62.2, 67. , 86.1, 66.1, 55.6, 30.5, 36.8],\n",
       "       [63.5, 64.7, 29.1, 34.1, 24.5, 84.2,  7.1, 49.3, 14.1, 33.1, 70.3,\n",
       "        88.1, 46.5, 79.4, 15.6, 55.4, 82.9, 63.7, 59.7, 63.1],\n",
       "       [68.6, 32.4, 42.1, 39.8, 71.5, 67. , 16.8, 44.8, 21.2, 37.2, 32.8,\n",
       "        83.9, 54.6, 80.8, 18.5, 60.2, 74.7, 29.7, 63.2, 70.4]])"
      ]
     },
     "execution_count": 9,
     "metadata": {},
     "output_type": "execute_result"
    }
   ],
   "source": [
    "#Now we will filter only first 20 columns from dataset for data\n",
    "value=data[['BAP1', 'BAP2', 'BAP3', 'BAP4', 'BAP5', 'BAP6', 'BAP7', 'BAP8', 'BAP9', 'BAP10', 'BAP11', 'BAP12', 'BAP13', 'BAP14', 'BAP15', 'BAP16', 'BAP17', 'BAP18', 'BAP19', 'BAP20']].values\n",
    "value[:5]"
   ]
  },
  {
   "cell_type": "code",
   "execution_count": 11,
   "metadata": {
    "id": "TUDJZ9h90J2n"
   },
   "outputs": [],
   "source": [
    "import numpy as np\n",
    "#Minimizing each value to 1\n",
    "def preprocess(arr):\n",
    "    new_arr=[]\n",
    "    for each in arr:\n",
    "        new_arr.append(each/100)\n",
    "    new_arr=np.array(new_arr)\n",
    "    return new_arr\n",
    "process_val=preprocess(value)"
   ]
  },
  {
   "cell_type": "code",
   "execution_count": 12,
   "metadata": {
    "colab": {
     "base_uri": "https://localhost:8080/"
    },
    "id": "B57C8Q4k0ZaE",
    "outputId": "17d659ec-54b9-49b2-a6f9-a49ee84333fe"
   },
   "outputs": [
    {
     "data": {
      "text/plain": [
       "array([[0.865, 0.821, 0.748, 0.079, 0.311, 0.781, 0.379, 0.206, 0.557,\n",
       "        0.673, 0.837, 0.786, 0.151, 0.83 , 0.177, 0.431, 0.48 , 0.201,\n",
       "        0.234, 0.855],\n",
       "       [0.185, 0.882, 0.243, 0.144, 0.131, 0.404, 0.697, 0.733, 0.487,\n",
       "        0.55 , 0.79 , 0.467, 0.709, 0.51 , 0.686, 0.475, 0.245, 0.646,\n",
       "        0.196, 0.74 ],\n",
       "       [0.16 , 0.863, 0.119, 0.648, 0.359, 0.615, 0.155, 0.702, 0.602,\n",
       "        0.228, 0.551, 0.686, 0.904, 0.622, 0.67 , 0.861, 0.661, 0.556,\n",
       "        0.305, 0.368],\n",
       "       [0.635, 0.647, 0.291, 0.341, 0.245, 0.842, 0.071, 0.493, 0.141,\n",
       "        0.331, 0.703, 0.881, 0.465, 0.794, 0.156, 0.554, 0.829, 0.637,\n",
       "        0.597, 0.631]])"
      ]
     },
     "execution_count": 12,
     "metadata": {},
     "output_type": "execute_result"
    }
   ],
   "source": [
    "process_val[:4]"
   ]
  },
  {
   "cell_type": "code",
   "execution_count": 13,
   "metadata": {
    "id": "oFA9737xzcyq"
   },
   "outputs": [],
   "source": [
    "from sklearn.linear_model import LogisticRegression"
   ]
  },
  {
   "cell_type": "code",
   "execution_count": 17,
   "metadata": {
    "colab": {
     "base_uri": "https://localhost:8080/"
    },
    "id": "pdh3fiNuzcyt",
    "outputId": "4c276626-d4f0-476a-c447-c6392435628b"
   },
   "outputs": [
    {
     "name": "stderr",
     "output_type": "stream",
     "text": [
      "C:\\ProgramData\\Anaconda3\\lib\\site-packages\\sklearn\\linear_model\\logistic.py:433: FutureWarning: Default solver will be changed to 'lbfgs' in 0.22. Specify a solver to silence this warning.\n",
      "  FutureWarning)\n"
     ]
    },
    {
     "data": {
      "text/plain": [
       "LogisticRegression(C=1.0, class_weight=None, dual=False, fit_intercept=True,\n",
       "          intercept_scaling=1, max_iter=100, multi_class='auto',\n",
       "          n_jobs=None, penalty='l2', random_state=None, solver='warn',\n",
       "          tol=0.0001, verbose=0, warm_start=False)"
      ]
     },
     "execution_count": 17,
     "metadata": {},
     "output_type": "execute_result"
    }
   ],
   "source": [
    "model=LogisticRegression(multi_class='auto')\n",
    "model.fit(process_val,labels_enum)"
   ]
  },
  {
   "cell_type": "code",
   "execution_count": 29,
   "metadata": {
    "colab": {
     "base_uri": "https://localhost:8080/"
    },
    "id": "z22d1vzC2DJs",
    "outputId": "85945def-cc81-4f4a-c115-31bde286e535"
   },
   "outputs": [
    {
     "name": "stdout",
     "output_type": "stream",
     "text": [
      "[[0.49 0.18 0.55 0.73 0.39 0.12 0.94 0.7  0.82 0.77 0.3  0.16 0.22 0.86\n",
      "  0.07 0.86 0.42 0.24 0.53 0.49]]\n"
     ]
    },
    {
     "data": {
      "text/plain": [
       "array([501])"
      ]
     },
     "execution_count": 29,
     "metadata": {},
     "output_type": "execute_result"
    }
   ],
   "source": [
    "import numpy as np\n",
    "from random import randint\n",
    "arr=[randint(1,100) for x in range(20)]\n",
    "data_test=np.array([arr])\n",
    "val_test=preprocess(data_test)\n",
    "print(val_test)\n",
    "prediction=model.predict(val_test)\n",
    "prediction"
   ]
  },
  {
   "cell_type": "code",
   "execution_count": 30,
   "metadata": {
    "id": "W4erClol3Sd_"
   },
   "outputs": [],
   "source": [
    "from sklearn.externals import joblib"
   ]
  },
  {
   "cell_type": "code",
   "execution_count": 31,
   "metadata": {
    "id": "AdAfjYN93iFC"
   },
   "outputs": [
    {
     "data": {
      "text/plain": [
       "['joblib_model.pkl']"
      ]
     },
     "execution_count": 31,
     "metadata": {},
     "output_type": "execute_result"
    }
   ],
   "source": [
    "joblib_file = \"joblib_model.pkl\"\n",
    "joblib.dump(model, joblib_file)"
   ]
  },
  {
   "cell_type": "code",
   "execution_count": null,
   "metadata": {},
   "outputs": [],
   "source": []
  }
 ],
 "metadata": {
  "accelerator": "GPU",
  "colab": {
   "name": "Which Character are you?.ipynb",
   "provenance": []
  },
  "kernelspec": {
   "display_name": "Python 3",
   "language": "python",
   "name": "python3"
  },
  "language_info": {
   "codemirror_mode": {
    "name": "ipython",
    "version": 3
   },
   "file_extension": ".py",
   "mimetype": "text/x-python",
   "name": "python",
   "nbconvert_exporter": "python",
   "pygments_lexer": "ipython3",
   "version": "3.7.3"
  }
 },
 "nbformat": 4,
 "nbformat_minor": 2
}
